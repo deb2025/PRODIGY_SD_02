{
  "nbformat": 4,
  "nbformat_minor": 0,
  "metadata": {
    "colab": {
      "provenance": []
    },
    "kernelspec": {
      "name": "python3",
      "display_name": "Python 3"
    },
    "language_info": {
      "name": "python"
    }
  },
  "cells": [
    {
      "cell_type": "code",
      "execution_count": null,
      "metadata": {
        "colab": {
          "base_uri": "https://localhost:8080/"
        },
        "id": "KwspuwmXHK2T",
        "outputId": "db900d21-c861-489a-9249-a500edf79229"
      },
      "outputs": [
        {
          "output_type": "stream",
          "name": "stdout",
          "text": [
            "Welcome to the Number Guessing Game!\n",
            "I'm thinking of a number between 1 and 100. Try to guess it.\n",
            "Enter your guess: 45\n",
            "Too high! Try again.\n",
            "Enter your guess: 55\n",
            "Too high! Try again.\n",
            "Enter your guess: 0\n",
            "Too low! Try again.\n",
            "Enter your guess: -1\n",
            "Too low! Try again.\n",
            "Enter your guess: 101\n",
            "Too high! Try again.\n"
          ]
        }
      ],
      "source": [
        "import random\n",
        "\n",
        "random_number = random.randint(1, 100)\n",
        "\n",
        "\n",
        "attempts = 0\n",
        "guessed_number = None\n",
        "\n",
        "print(\"Welcome to the Number Guessing Game!\")\n",
        "print(\"I'm thinking of a number between 1 and 100. Try to guess it.\")\n",
        "\n",
        "\n",
        "while guessed_number != random_number:\n",
        "    try:\n",
        "\n",
        "        guessed_number = int(input(\"Enter your guess: \"))\n",
        "\n",
        "        attempts += 1\n",
        "\n",
        "        if guessed_number < random_number:\n",
        "            print(\"Too low! Try again.\")\n",
        "        elif guessed_number > random_number:\n",
        "            print(\"Too high! Try again.\")\n",
        "        else:\n",
        "            print(f\"Congratulations! You guessed the number {random_number} in {attempts} attempts.\")\n",
        "    except ValueError:\n",
        "        print(\"Invalid input. Please enter a valid number.\")\n",
        "\n",
        "\n",
        "\n"
      ]
    }
  ]
}